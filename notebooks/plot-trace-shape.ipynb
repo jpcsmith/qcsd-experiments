{
 "cells": [
  {
   "cell_type": "markdown",
   "metadata": {},
   "source": [
    "# Plot Shape\n"
   ]
  },
  {
   "cell_type": "code",
   "execution_count": 1,
   "metadata": {},
   "outputs": [],
   "source": [
    "import pandas as pd\n",
    "import numpy as np\n",
    "from matplotlib import pyplot as plt\n",
    "import scipy.stats as stats\n",
    "import json\n",
    "\n",
    "LAG_MAX_MS = 250\n",
    "\n",
    "def load_schedule(filename, rate):\n",
    "    print(\"Reading schedule: {}\".format(filename))\n",
    "    data = pd.read_csv(filename, header=None, names=[\"time\", \"length\"])\n",
    "    data[\"is_outgoing\"] = data[\"length\"] > 0\n",
    "    data[\"length\"] = data[\"length\"].abs()\n",
    "    data = data.sort_values(by=\"time\").reset_index(drop=True)\n",
    "\n",
    "    data[\"time\"] = pd.to_datetime(data[\"time\"], unit=\"s\")\n",
    "\n",
    "    # sampling rate\n",
    "    sampling = str(rate)+\"ms\"\n",
    "    data = data.groupby(\"is_outgoing\").resample(\n",
    "                                        sampling, on=\"time\", origin=\"epoch\"\n",
    "                                        )[\"length\"].sum()\n",
    "\n",
    "    return data.xs(True), data.xs(False)\n",
    "\n",
    "\n",
    "def load_trace(filename, rate):\n",
    "    print(\"Reading trace: {}\".format(filename))\n",
    "    data = pd.read_csv(filename)\n",
    "    assert data.loc[0, \"packet_number\"] == 0\n",
    "    data[\"timestamp\"] = (data[\"timestamp\"] - data.loc[0, \"timestamp\"]) * 1e3\n",
    "    data = data.rename(columns={\"timestamp\": \"time\",\n",
    "                                \"packet_length\": \"length\"})\n",
    "    data = data[[\"time\", \"length\", \"is_outgoing\"]]\n",
    "    data[\"time\"] = pd.to_datetime(data[\"time\"], unit=\"ms\")\n",
    "\n",
    "    sampling = str(rate)+\"ms\"\n",
    "    data = data.groupby(\"is_outgoing\").resample(\n",
    "                                        sampling, on=\"time\", origin=\"epoch\"\n",
    "                                        ).sum().drop(columns=\"is_outgoing\")\n",
    "\n",
    "    return data.xs(True)[\"length\"], data.xs(False)[\"length\"]\n"
   ]
  },
  {
   "cell_type": "code",
   "execution_count": 15,
   "metadata": {},
   "outputs": [
    {
     "name": "stdout",
     "output_type": "stream",
     "text": [
      "Reading trace: ../results/collect/tamaraw_defended/config2/012_0/tamaraw_traffic.csv\n",
      "Reading schedule: ../results/collect/tamaraw_defended/config2/012_0/shape_schedule.csv\n"
     ]
    },
    {
     "data": {
      "text/plain": [
       "Text(0.5, 0.98, '')"
      ]
     },
     "execution_count": 15,
     "metadata": {},
     "output_type": "execute_result"
    },
    {
     "data": {
      "image/png": "[encoded data removed]",
      "text/plain": [
       "<Figure size 864x432 with 1 Axes>"
      ]
     },
     "metadata": {
      "needs_background": "light"
     },
     "output_type": "display_data"
    }
   ],
   "source": [
    "\n",
    "TRACE_F = \"../results/collect/tamaraw_defended/config2/012_0/tamaraw_traffic.csv\"\n",
    "SCHEDULE_F = \"../results/collect/tamaraw_defended/config2/012_0/shape_schedule.csv\"\n",
    "\n",
    "sample_rate = 5\n",
    "r_window_size = int(6250/sample_rate)\n",
    "\n",
    "(outgoing, incoming) = load_trace(TRACE_F, float(sample_rate))\n",
    "(schedule_out, schedule_in) = load_schedule(SCHEDULE_F, float(sample_rate))\n",
    "\n",
    "f, ax = plt.subplots(1,1, figsize=(12,6))\n",
    "ax.scatter(x=schedule_out.index, y=schedule_out, label=\"Schedule\", s=1.0, marker='2')\n",
    "ax.scatter(x=outgoing.index, y=outgoing, label=\"Defended\", s=1.0, marker='1')\n",
    "ax.scatter(x=schedule_in.index, y=-schedule_in, label=\"Schedule\", s=1.0, marker='2')\n",
    "ax.scatter(x=incoming.index, y=-incoming, label=\"Defended\", s=1.0, marker='1')\n",
    "ax.set_ylim(bottom=-750*(np.log(sample_rate)), top=1200)\n",
    "f.legend()\n",
    "f.suptitle(f\"\")\n",
    "\n",
    "\n"
   ]
  },
  {
   "cell_type": "code",
   "execution_count": null,
   "metadata": {},
   "outputs": [],
   "source": []
  },
  {
   "cell_type": "code",
   "execution_count": null,
   "metadata": {},
   "outputs": [],
   "source": []
  }
 ],
 "metadata": {
  "kernelspec": {
   "display_name": "Python 3",
   "language": "python",
   "name": "python3"
  },
  "language_info": {
   "codemirror_mode": {
    "name": "ipython",
    "version": 3
   },
   "file_extension": ".py",
   "mimetype": "text/x-python",
   "name": "python",
   "nbconvert_exporter": "python",
   "pygments_lexer": "ipython3",
   "version": "3.9.1"
  }
 },
 "nbformat": 4,
 "nbformat_minor": 2
}
