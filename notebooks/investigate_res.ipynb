{
 "metadata": {
  "language_info": {
   "codemirror_mode": {
    "name": "ipython",
    "version": 3
   },
   "file_extension": ".py",
   "mimetype": "text/x-python",
   "name": "python",
   "nbconvert_exporter": "python",
   "pygments_lexer": "ipython3",
   "version": "3.8.1-final"
  },
  "orig_nbformat": 2,
  "kernelspec": {
   "name": "python3",
   "display_name": "Python 3.8.1 64-bit ('3.8.1')",
   "metadata": {
    "interpreter": {
     "hash": "1da5a967b869a0b8af5b37a7afa82c34a2f6545308741090715575bbc1a349bb"
    }
   }
  }
 },
 "nbformat": 4,
 "nbformat_minor": 2,
 "cells": [
  {
   "cell_type": "code",
   "execution_count": 3,
   "metadata": {
    "tags": []
   },
   "outputs": [
    {
     "output_type": "stream",
     "name": "stdout",
     "text": [
      "127: 20 reps\n154: 20 reps\n246: 20 reps\n094: 20 reps\n033: 20 reps\n141: 20 reps\n032: 19 reps\n201: 20 reps\n072: 20 reps\n098: 20 reps\n064: 20 reps\n229: 20 reps\n012: 20 reps\n102: 20 reps\n017: 20 reps\n225: 20 reps\n066: 20 reps\n029: 20 reps\n097: 20 reps\n071: 19 reps\n302: 0 reps\n206: 20 reps\n014: 20 reps\n067: 20 reps\n155: 20 reps\n024: 20 reps\n147: 5 reps\n062: 20 reps\n133: 20 reps\n020: 20 reps\n157: 20 reps\n119: 20 reps\n055: 20 reps\n008: 15 reps\n003: 20 reps\n006: 20 reps\n007: 18 reps\n177: 20 reps\n054: 20 reps\n039: 19 reps\n002: 20 reps\n153: 20 reps\n021: 19 reps\n270: 20 reps\n107: 20 reps\n250: 12 reps\n111: 20 reps\n015: 2 reps\n074: 20 reps\n260: 20 reps\n088: 20 reps\n124: 20 reps\n099: 20 reps\n150: 20 reps\n286: 20 reps\n151: 20 reps\n120: 20 reps\n087: 20 reps\n075: 20 reps\n034: 20 reps\n026: 20 reps\n285: 2 reps\n200: 2 reps\n004: 20 reps\n307: 20 reps\n036: 20 reps\n312: 20 reps\n090: 6 reps\n057: 20 reps\n129: 20 reps\n096: 20 reps\n236: 20 reps\n025: 20 reps\n038: 20 reps\n093: 20 reps\n009: 20 reps\n100: 20 reps\n148: 20 reps\n070: 8 reps\n123: 20 reps\n052: 20 reps\n022: 20 reps\n122: 20 reps\n035: 20 reps\n109: 20 reps\n005: 20 reps\n040: 20 reps\n142: 20 reps\n184: 20 reps\n056: 20 reps\n037: 20 reps\n065: 20 reps\n001: 20 reps\n053: 20 reps\n114: 2 reps\n179: 3 reps\n187: 5 reps\n308: 1 reps\n027: 0 reps\n134: 2 reps\n304: 1 reps\n013: 2 reps\n112: 1 reps\n\ntotal samples: 103 (32.70%)\ntotal successful results: 1763 (85.58%) (27.98%)\n"
     ]
    }
   ],
   "source": [
    "import numpy as np\n",
    "import json\n",
    "\n",
    "res_path = \"../results/pearson/front/aggregate_50/res_dummy.json\"\n",
    "\n",
    "with open(res_path, \"r\") as jsonfile:\n",
    "    res = json.load(jsonfile)\n",
    "\n",
    "tx = res['TX']\n",
    "rx = res['RX']\n",
    "\n",
    "count = 0\n",
    "c_rep = 0\n",
    "for (s_id, data) in tx.items():\n",
    "    c = data['count']\n",
    "    c_rep += c\n",
    "    print(f'{s_id}: {c} reps')\n",
    "    count += 1\n",
    "\n",
    "ratio_samples = count/315.0\n",
    "samp_succ = c_rep/(count*20.0)\n",
    "overall_succ = c_rep/(315.0*20.0)\n",
    "print(f'\\ntotal samples: {count} ({ratio_samples*100:.2f}%)')\n",
    "print(f'total successful results: {c_rep} ({samp_succ*100:.2f}%) ({overall_succ*100:.2f}%)')"
   ]
  },
  {
   "cell_type": "code",
   "execution_count": null,
   "metadata": {},
   "outputs": [],
   "source": []
  }
 ]
}