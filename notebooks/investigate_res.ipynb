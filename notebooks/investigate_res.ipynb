{
 "metadata": {
  "language_info": {
   "codemirror_mode": {
    "name": "ipython",
    "version": 3
   },
   "file_extension": ".py",
   "mimetype": "text/x-python",
   "name": "python",
   "nbconvert_exporter": "python",
   "pygments_lexer": "ipython3",
   "version": "3.8.1-final"
  },
  "orig_nbformat": 2,
  "kernelspec": {
   "name": "python3",
   "display_name": "Python 3.8.1 64-bit ('3.8.1': pyenv)",
   "metadata": {
    "interpreter": {
     "hash": "1da5a967b869a0b8af5b37a7afa82c34a2f6545308741090715575bbc1a349bb"
    }
   }
  }
 },
 "nbformat": 4,
 "nbformat_minor": 2,
 "cells": [
  {
   "cell_type": "code",
   "execution_count": 9,
   "metadata": {
    "tags": []
   },
   "outputs": [
    {
     "output_type": "stream",
     "name": "stdout",
     "text": [
      "246: 20 reps\n107: 20 reps\n133: 20 reps\n206: 20 reps\n002: 20 reps\n040: 20 reps\n022: 20 reps\n127: 20 reps\n098: 20 reps\n029: 20 reps\n077: 20 reps\n225: 20 reps\n021: 20 reps\n026: 20 reps\n012: 20 reps\n008: 10 reps\n148: 20 reps\n053: 20 reps\n006: 20 reps\n067: 20 reps\n142: 20 reps\n065: 20 reps\n088: 20 reps\n100: 20 reps\n036: 20 reps\n286: 20 reps\n102: 20 reps\n129: 20 reps\n094: 20 reps\n184: 20 reps\n123: 20 reps\n229: 20 reps\n057: 20 reps\n025: 20 reps\n004: 20 reps\n177: 20 reps\n039: 20 reps\n033: 20 reps\n260: 20 reps\n312: 20 reps\n099: 20 reps\n154: 20 reps\n153: 20 reps\n096: 20 reps\n201: 20 reps\n072: 20 reps\n017: 20 reps\n157: 20 reps\n071: 20 reps\n062: 20 reps\n056: 20 reps\n122: 20 reps\n150: 20 reps\n007: 17 reps\n014: 20 reps\n035: 20 reps\n037: 20 reps\n066: 19 reps\n054: 20 reps\n003: 20 reps\n075: 20 reps\n109: 20 reps\n120: 20 reps\n064: 20 reps\n111: 20 reps\n307: 20 reps\n055: 20 reps\n141: 20 reps\n005: 20 reps\n024: 20 reps\n034: 20 reps\n001: 20 reps\n087: 20 reps\n020: 20 reps\n009: 20 reps\n038: 20 reps\n236: 20 reps\n124: 20 reps\n119: 20 reps\n093: 20 reps\n097: 20 reps\n074: 20 reps\n151: 20 reps\n\ntotal samples: 83 (26.35%)\ntotal successful results: 1646 (99.16%) (26.13%)\n"
     ]
    }
   ],
   "source": [
    "import numpy as np\n",
    "import json\n",
    "\n",
    "res_path = \"/Volumes/Isis/Thesis/qcd-experiments/results/pearson/front/config2/dabbad00/aggregate/res_dummy.json\"\n",
    "\n",
    "with open(res_path, \"r\") as jsonfile:\n",
    "    res = json.load(jsonfile)\n",
    "\n",
    "tx = res['TX']\n",
    "rx = res['RX']\n",
    "\n",
    "count = 0\n",
    "c_rep = 0\n",
    "for (s_id, data) in tx.items():\n",
    "    c = data['count']\n",
    "    c_rep += c\n",
    "    print(f'{s_id}: {c} reps')\n",
    "    count += 1\n",
    "\n",
    "ratio_samples = count/315.0\n",
    "samp_succ = c_rep/(count*20.0)\n",
    "overall_succ = c_rep/(315.0*20.0)\n",
    "print(f'\\ntotal samples: {count} ({ratio_samples*100:.2f}%)')\n",
    "print(f'total successful results: {c_rep} ({samp_succ*100:.2f}%) ({overall_succ*100:.2f}%)')"
   ]
  },
  {
   "cell_type": "code",
   "execution_count": 10,
   "metadata": {},
   "outputs": [
    {
     "output_type": "stream",
     "name": "stdout",
     "text": [
      "Outlier 098 with mean 0.39251618073299294\nOutlier 077 with mean 0.17852557514331965\nOutlier 012 with mean 0.621738334878828\nOutlier 008 with mean 0.6773566267827242\nOutlier 148 with mean 0.6073249999988924\nOutlier 184 with mean 0.7236993400112589\nOutlier 229 with mean 0.32288835324139514\nOutlier 017 with mean 0.632554483631589\nOutlier 007 with mean 0.7016715053981082\nOutlier 066 with mean 0.5172859829062458\nOutlier 307 with mean 0.7377929490516666\nOutlier 055 with mean 0.476265660588748\n"
     ]
    }
   ],
   "source": [
    "treshold = 0.738\n",
    "for (s_id, data) in rx.items():\n",
    "    m = data['mean']\n",
    "    if m < treshold:\n",
    "        print(f'Outlier {s_id} with mean {m}')"
   ]
  },
  {
   "source": [
    "# Investigate outliers"
   ],
   "cell_type": "markdown",
   "metadata": {}
  },
  {
   "cell_type": "code",
   "execution_count": 27,
   "metadata": {},
   "outputs": [],
   "source": [
    "%%capture\n",
    "from matplotlib import pyplot as plt\n",
    "\n",
    "resdir = \"/Volumes/Isis/Thesis/qcd-experiments/results\"\n",
    "confs = [\"config1\", \"config2\", \"config3\", \"config4\"]\n",
    "\n",
    "conf1_cafe_f = f\"{resdir}/pearson/front/config1/baddcafe/aggregate/res_dummy.json\"\n",
    "conf2_cafe_f = f\"{resdir}/pearson/front/config2/baddcafe/aggregate/res_dummy.json\"\n",
    "conf3_cafe_f = f\"{resdir}/pearson/front/config3/baddcafe/aggregate/res_dummy.json\"\n",
    "conf4_cafe_f = f\"{resdir}/pearson/front/config4/baddcafe/aggregate/res_dummy.json\"\n",
    "cafe_f = [conf1_cafe_f, conf2_cafe_f, conf3_cafe_f, conf4_cafe_f]\n",
    "\n",
    "conf1_dead_f = f\"{resdir}/pearson/front/config1/dead/aggregate/res_dummy.json\"\n",
    "conf2_dead_f = f\"{resdir}/pearson/front/config2/dead/aggregate/res_dummy.json\"\n",
    "conf3_dead_f = f\"{resdir}/pearson/front/config3/dead/aggregate/res_dummy.json\"\n",
    "conf4_dead_f = f\"{resdir}/pearson/front/config4/dead/aggregate/res_dummy.json\"\n",
    "dead_f = [conf1_dead_f, conf2_dead_f, conf3_dead_f, conf4_dead_f]\n",
    "\n",
    "conf1_dabba_f = f\"{resdir}/pearson/front/config1/dabbad00/aggregate/res_dummy.json\"\n",
    "conf2_dabba_f = f\"{resdir}/pearson/front/config2/dabbad00/aggregate/res_dummy.json\"\n",
    "conf3_dabba_f = f\"{resdir}/pearson/front/config3/dabbad00/aggregate/res_dummy.json\"\n",
    "conf4_dabba_f = f\"{resdir}/pearson/front/config4/dabbad00/aggregate/res_dummy.json\"\n",
    "dabba_f = [conf1_dabba_f, conf2_dabba_f, conf3_dabba_f, conf4_dabba_f]\n",
    "\n",
    "def aggregate_and_means(data):\n",
    "    means = np.array([])\n",
    "    for (s_id, reps) in data.items():\n",
    "        reps = reps['reps']\n",
    "        avg = np.nanmean(list(reps.values()))\n",
    "        means = np.append(means, avg)\n",
    "        # count how many non-nan values\n",
    "        r_count = (~np.isnan(list(reps.values()))).sum()\n",
    "        data[s_id] = {'count': int(r_count), 'mean': avg, 'reps': reps}\n",
    "\n",
    "    return means, data\n",
    "\n",
    "cafe = {}\n",
    "data_cafe = []\n",
    "for file, conf in zip(cafe_f, confs):\n",
    "    with open(file, \"r\") as f:\n",
    "        jsonfile = json.load(f)\n",
    "    pearsons_RX = jsonfile['RX']\n",
    "    (rx_means, pearsons_RX) = aggregate_and_means(pearsons_RX)\n",
    "    cafe[conf] = pearsons_RX\n",
    "    data_cafe += [rx_means]\n",
    "\n",
    "dead = {}\n",
    "data_dead = []\n",
    "for file, conf in zip(dead_f, confs):\n",
    "    with open(file, \"r\") as f:\n",
    "        jsonfile = json.load(f)\n",
    "    pearsons_RX = jsonfile['RX']\n",
    "    (rx_means, pearsons_RX) = aggregate_and_means(pearsons_RX)\n",
    "    dead[conf] = pearsons_RX\n",
    "    data_dead += [rx_means]\n",
    "\n",
    "dabba = {}\n",
    "data_dabba = []\n",
    "for file, conf in zip(dabba_f, confs):\n",
    "    with open(file, \"r\") as f:\n",
    "        jsonfile = json.load(f)\n",
    "    pearsons_RX = jsonfile['RX']\n",
    "    (rx_means, pearsons_RX) = aggregate_and_means(pearsons_RX)\n",
    "    dabba[conf] = pearsons_RX\n",
    "    data_dabba += [rx_means]\n",
    "\n",
    "bpcafe = plt.boxplot(data_cafe);\n",
    "bpdead = plt.boxplot(data_dead);\n",
    "bpdabba = plt.boxplot(data_dabba);\n",
    "\n",
    "cafe_maxf = {}\n",
    "outliers = [flier.get_ydata() for flier in bpcafe['fliers']]\n",
    "for i, conf in enumerate(confs):\n",
    "    maxf = max(outliers[i]) if len(outliers[i]>0) else -100000\n",
    "    cafe_maxf[conf] = maxf\n",
    "dead_maxf = {}\n",
    "outliers = [flier.get_ydata() for flier in bpdead['fliers']]\n",
    "for i, conf in enumerate(confs):\n",
    "    maxf = max(outliers[i]) if len(outliers[i]>0) else -100000\n",
    "    dead_maxf[conf] = maxf\n",
    "dabba_maxf = {}\n",
    "outliers = [flier.get_ydata() for flier in bpdabba['fliers']]\n",
    "for i, conf in enumerate(confs):\n",
    "    maxf = max(outliers[i]) if len(outliers[i]>0) else -100000\n",
    "    dabba_maxf[conf] = maxf\n",
    "\n"
   ]
  },
  {
   "cell_type": "code",
   "execution_count": 37,
   "metadata": {},
   "outputs": [
    {
     "output_type": "stream",
     "name": "stdout",
     "text": [
      "Outlier 012 with mean -0.2908392484098171\nOutlier 148 with mean -0.5275827037615857\nOutlier 184 with mean -0.2978820244382193\nOutlier 229 with mean -0.5000947128366369\nOutlier 007 with mean -0.29866483631792695\nOutlier 066 with mean -0.33612849835015\nOutlier 307 with mean -0.2608826828037017\nOutlier 015 with mean -0.30337389801407494\n----------------\n----------------\nOutlier 098 with mean 0.0496615245989875\nOutlier 077 with mean -0.0933006679068947\nOutlier 012 with mean -0.09155696111154059\nOutlier 148 with mean 0.1610438122923292\nOutlier 229 with mean 0.025550083684503743\nOutlier 033 with mean 0.29841111336843273\nOutlier 007 with mean 0.3189602660530857\nOutlier 066 with mean 0.3191151100469954\nOutlier 055 with mean 0.4815025262182829\n[7, 12, 15, 66, 148, 184, 229, 307]\n[]\n[7, 12, 33, 55, 66, 77, 98, 148, 229]\n"
     ]
    }
   ],
   "source": [
    "\n",
    "treshold = cafe_maxf['config3']\n",
    "rx = cafe['config3']\n",
    "cafe_flier_id = []\n",
    "for (s_id, data) in rx.items():\n",
    "    m = data['mean']\n",
    "    if m <= treshold:\n",
    "        cafe_flier_id += [int(s_id)]\n",
    "        print(f'Outlier {s_id} with mean {m}')\n",
    "cafe_flier_id.sort()\n",
    "\n",
    "print(\"----------------\")\n",
    "treshold = dead_maxf['config3']\n",
    "rx = dead['config3']\n",
    "dead_flier_id = []\n",
    "for (s_id, data) in rx.items():\n",
    "    m = data['mean']\n",
    "    if m <= treshold:\n",
    "        dead_flier_id += [int(s_id)]\n",
    "        print(f'Outlier {s_id} with mean {m}')\n",
    "dead_flier_id.sort()\n",
    "\n",
    "print(\"----------------\")\n",
    "treshold = dabba_maxf['config3']\n",
    "rx = dabba['config3']\n",
    "dabba_flier_id = []\n",
    "for (s_id, data) in rx.items():\n",
    "    m = data['mean']\n",
    "    if m <= treshold:\n",
    "        dabba_flier_id += [int(s_id)]\n",
    "        print(f'Outlier {s_id} with mean {m}')\n",
    "dabba_flier_id.sort()\n",
    "\n",
    "print(cafe_flier_id)\n",
    "print(dead_flier_id)\n",
    "print(dabba_flier_id)"
   ]
  },
  {
   "cell_type": "code",
   "execution_count": null,
   "metadata": {},
   "outputs": [],
   "source": []
  },
  {
   "cell_type": "code",
   "execution_count": null,
   "metadata": {},
   "outputs": [],
   "source": []
  }
 ]
}