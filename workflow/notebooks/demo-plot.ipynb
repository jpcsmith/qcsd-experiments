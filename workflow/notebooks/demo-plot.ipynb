{
 "cells": [
  {
   "cell_type": "code",
   "execution_count": 12,
   "metadata": {},
   "outputs": [],
   "source": [
    "import pathlib\n",
    "from pathlib import Path\n",
    "import numpy as np\n",
    "import pandas as pd\n",
    "import matplotlib.pyplot as plt\n",
    "import seaborn as sns\n",
    "\n",
    "from lab import tracev2\n",
    "\n",
    "plt.rcParams.update({\n",
    "    'font.size': 8,\n",
    "    'axes.titlesize': 8,\n",
    "    'legend.fontsize': 8,\n",
    "})\n",
    "\n",
    "sns.set_style(\"white\")"
   ]
  },
  {
   "cell_type": "code",
   "execution_count": 2,
   "metadata": {},
   "outputs": [],
   "source": [
    "DEMO_DIR = pathlib.Path(\"../../results/demo/5255/\")\n",
    "OUTPUT_FILE = pathlib.Path(\"/tmp/plot.png\")\n",
    "\n",
    "if \"snakemake\" in globals():\n",
    "    DEMO_DIR = pathlib.Path(snakemake.params[\"demo_dir\"])\n",
    "    OUTPUT_FILE = pathlib.Path(snakemake.output[0])"
   ]
  },
  {
   "cell_type": "code",
   "execution_count": 3,
   "metadata": {},
   "outputs": [],
   "source": [
    "control = tracev2.from_csv(DEMO_DIR / \"undefended/trace.csv\")\n",
    "front = tracev2.from_csv(DEMO_DIR / \"front/trace.csv\")\n",
    "tamaraw = tracev2.from_csv(DEMO_DIR / \"tamaraw/trace.csv\")\n",
    "frontsched = tracev2.from_csv(DEMO_DIR / \"front/schedule.csv\")\n",
    "tamarawsched = tracev2.from_csv(DEMO_DIR / \"tamaraw/schedule.csv\")"
   ]
  },
  {
   "cell_type": "raw",
   "metadata": {
    "jupyter": {
     "source_hidden": true
    }
   },
   "source": [
    "fig, axes = plt.subplots(2, 3, figsize=(7.25, 2.5), sharex=True)\n",
    "\n",
    "C1 = [\"#1f77b4\", \"#ff7f0e\"]\n",
    "C2 = [\"#2ca02c\", \"#d62728\"]\n",
    "\n",
    "def plot_packets(trace, axes, *, min_pkt_size):\n",
    "    trace = trace[np.abs(trace[\"size\"]) >= min_pkt_size]\n",
    "    \n",
    "    outgoing = trace[trace[\"size\"] > 0]\n",
    "    incoming = trace[trace[\"size\"] < 0]\n",
    "    axes.scatter(outgoing[\"time\"], outgoing[\"size\"], marker='o', s=15, facecolor=\"none\", edgecolor=C1[0], linewidth=0.5)\n",
    "    axes.scatter(incoming[\"time\"], incoming[\"size\"], marker='o', s=15, facecolor=\"none\", edgecolor=C1[1], linewidth=0.5)\n",
    "    axes.set_yticks([-1500, -750, 0, 750, 1500])\n",
    "    axes.set_ylim(-1600, 1600)\n",
    "    # axes.set_xlim(-0.5, 7)\n",
    "    \n",
    "def plot_hist(trace, axes, *, min_pkt_size, c, **kws):\n",
    "    trace = trace[np.abs(trace[\"size\"]) >= min_pkt_size]\n",
    "    \n",
    "    outgoing = trace[trace[\"size\"] > 0]\n",
    "    incoming = trace[trace[\"size\"] < 0]\n",
    "    sns.kdeplot(outgoing[\"time\"], ax=axes, color=c[0], **kws)\n",
    "    sns.kdeplot(incoming[\"time\"], ax=axes, color=c[1], **kws)\n",
    "\n",
    "plot_packets(control, axes[0, 0], min_pkt_size=150)\n",
    "plot_hist(control, axes[1, 0], min_pkt_size=150, c=C1)\n",
    "\n",
    "plot_packets(front, axes[0, 1], min_pkt_size=150)\n",
    "plot_hist(front, axes[1, 1], min_pkt_size=150, c=C1)\n",
    "plot_hist(frontsched, axes[1, 1], min_pkt_size=150, c=C1, linestyle=\"--\")\n",
    "\n",
    "plot_packets(tamaraw, axes[0, 2], min_pkt_size=250)\n",
    "plot_hist(tamaraw, axes[1, 2], min_pkt_size=250, c=C1)\n",
    "plot_hist(tamarawsched, axes[1, 2], min_pkt_size=250, c=C1, linestyle=\"--\")\n",
    "\n",
    "for ax in axes[:, 1:].ravel():\n",
    "    ax.set_ylabel(None)\n",
    "for ax in axes[1, :].ravel():\n",
    "    ax.set_xlabel(\"Time (seconds)\")\n",
    "    \n",
    "axes[0, 0].set_ylabel(\"Pkt. size (B)\")\n",
    "axes[1, 0].set_ylabel(\"Pkt. size (B)\")\n",
    "    \n",
    "# handles, labels = axes[1, 2].get_legend_handles_labels()\n",
    "fig.legend(axes[1, 2].get_lines(), [\"Outgoing\", \"Incoming\", \"Outgoing (Schedule)\", \"Incoming (Schedule)\"], loc='upper center', bbox_to_anchor=(.5, 0), ncol=4)\n",
    "\n",
    "fig.tight_layout(h_pad=0.5)\n",
    "fig.savefig(OUTPUT_FILE.with_suffix(\".png\"), bbox_inches=\"tight\", dpi=150)\n",
    "fig.savefig(OUTPUT_FILE.with_suffix(\".pgf\"), backend=\"pgf\", bbox_inches=\"tight\")"
   ]
  },
  {
   "cell_type": "code",
   "execution_count": 26,
   "metadata": {},
   "outputs": [
    {
     "data": {
      "image/png": "[encoded data removed]",
      "text/plain": [
       "<Figure size 522x144 with 6 Axes>"
      ]
     },
     "metadata": {},
     "output_type": "display_data"
    }
   ],
   "source": [
    "fig, axes = plt.subplots(2, 3, figsize=(7.25, 2), sharex=True, gridspec_kw=dict(height_ratios=[1,3]))\n",
    "\n",
    "C1 = [\"#1f77b4\", \"#ff7f0e\"]\n",
    "C2 = [\"#2ca02c\", \"#d62728\"]\n",
    "\n",
    "def plot_packets(trace, axes, *, min_pkt_size):\n",
    "    trace = trace[np.abs(trace[\"size\"]) >= min_pkt_size]\n",
    "    \n",
    "    outgoing = trace[trace[\"size\"] > 0]\n",
    "    incoming = trace[trace[\"size\"] < 0]\n",
    "    axes.scatter(outgoing[\"time\"], outgoing[\"size\"], marker='o', s=15, facecolor=\"none\", edgecolor=C1[0], linewidth=.5)\n",
    "    axes.scatter(incoming[\"time\"], incoming[\"size\"], marker='o', s=15, facecolor=\"none\", edgecolor=C1[1], linewidth=.5)\n",
    "    axes.set_yticks([-1500, -750, 0, 750, 1500])\n",
    "    axes.set_ylim(-1600, 1600)\n",
    "    axes.set_xticks([0, 1, 2, 3, 4, 5, 6, 7])\n",
    "    axes.set_xlim(-1, 8)\n",
    "    \n",
    "def plot_hist(trace, axes, *, min_pkt_size, c, **kws):\n",
    "    trace = trace[np.abs(trace[\"size\"]) >= min_pkt_size]\n",
    "    \n",
    "    outgoing = trace[trace[\"size\"] > 0]\n",
    "    incoming = trace[trace[\"size\"] < 0]\n",
    "    sns.kdeplot(outgoing[\"time\"], ax=axes, color=c[0], linewidth=1, **kws)\n",
    "    sns.kdeplot(incoming[\"time\"], ax=axes, color=c[1], linewidth=1, **kws)\n",
    "\n",
    "plot_packets(control, axes[1, 0], min_pkt_size=150)\n",
    "plot_hist(control, axes[0, 0], min_pkt_size=150, c=C1)\n",
    "\n",
    "plot_packets(front, axes[1, 1], min_pkt_size=150)\n",
    "plot_hist(front, axes[0, 1], min_pkt_size=150, c=C1)\n",
    "plot_hist(frontsched, axes[0, 1], min_pkt_size=150, c=C1, linestyle=\"--\")\n",
    "\n",
    "plot_packets(tamaraw, axes[1, 2], min_pkt_size=250)\n",
    "plot_hist(tamaraw, axes[0, 2], min_pkt_size=250, c=C1)\n",
    "plot_hist(tamarawsched, axes[0, 2], min_pkt_size=250, c=C1, linestyle=\"--\")\n",
    "\n",
    "for ax in axes[:, 1:].ravel():\n",
    "    ax.set_ylabel(None)\n",
    "    \n",
    "for ax in axes[1, :].ravel():\n",
    "    ax.set_xlabel(\"Time (seconds)\")\n",
    "    \n",
    "for ax in axes[0, :].ravel():\n",
    "    # fig.axes.get_xaxis().set_visible(False)\n",
    "    ax.get_yaxis().set_visible(False)\n",
    "    ax.grid(False)\n",
    "    # ax.set_xticks([])\n",
    "    ax.set_yticks([])\n",
    "    ax.spines['top'].set_visible(False)\n",
    "    ax.spines['right'].set_visible(False)\n",
    "    # ax.spines['bottom'].set_visible(False)\n",
    "    ax.spines['left'].set_visible(False)\n",
    "    \n",
    "for ax in axes[1, :].ravel():\n",
    "    ax.spines['top'].set_visible(False)\n",
    "    ax.spines['right'].set_visible(False)\n",
    "    # ax.hlines(0, -1, 8, color=\"gray\", linewidth=.75)\n",
    "    # ax.spines['bottom'].set_visible(False)\n",
    "    # ax.spines['left'].set_visible(False)\n",
    "    \n",
    "axes[1, 0].set_ylabel(\"Packet size (bytes)\")\n",
    "    \n",
    "# handles, labels = axes[1, 2].get_legend_handles_labels()\n",
    "fig.legend(axes[0, 2].get_lines(), [\"Outgoing\", \"Incoming\", \"Outgoing (Schedule)\", \"Incoming (Schedule)\"], loc='upper center', bbox_to_anchor=(.5, 0), ncol=4)\n",
    "\n",
    "fig.tight_layout(h_pad=0.5)\n",
    "fig.savefig(OUTPUT_FILE.with_suffix(\".png\"), bbox_inches=\"tight\", dpi=150)\n",
    "fig.savefig(OUTPUT_FILE.with_suffix(\".pgf\"), backend=\"pgf\", bbox_inches=\"tight\")"
   ]
  }
 ],
 "metadata": {
  "kernelspec": {
   "display_name": "Python 3",
   "language": "python",
   "name": "python3"
  },
  "language_info": {
   "codemirror_mode": {
    "name": "ipython",
    "version": 3
   },
   "file_extension": ".py",
   "mimetype": "text/x-python",
   "name": "python",
   "nbconvert_exporter": "python",
   "pygments_lexer": "ipython3",
   "version": "3.8.0"
  }
 },
 "nbformat": 4,
 "nbformat_minor": 4
}
