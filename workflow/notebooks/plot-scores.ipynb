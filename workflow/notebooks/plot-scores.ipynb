{
 "cells": [
  {
   "cell_type": "code",
   "execution_count": null,
   "metadata": {},
   "outputs": [],
   "source": [
    "import math\n",
    "import pathlib\n",
    "import pandas as pd\n",
    "import seaborn as sns\n",
    "import matplotlib.pyplot as plt\n",
    "from matplotlib import gridspec, ticker\n",
    "\n",
    "sns.set_style(\"whitegrid\")\n",
    "plt.rcParams.update({\n",
    "    'font.size': 8,\n",
    "    'axes.titlesize': 8,\n",
    "    'legend.fontsize': 8,\n",
    "})"
   ]
  },
  {
   "cell_type": "code",
   "execution_count": null,
   "metadata": {},
   "outputs": [],
   "source": [
    "SCORES_FILE = \"../../results/shaping-eval/tamaraw/scores.csv\"\n",
    "OUTPUT_FILE = pathlib.Path(\"/tmp/plot.png\")\n",
    "MIN_PKT_SIZE = 0\n",
    "WITH_LEGEND = True\n",
    "YLABELS_AT = 0.25\n",
    "\n",
    "if \"snakemake\" in globals():\n",
    "    SCORES_FILE = snakemake.input[0]\n",
    "    OUTPUT_FILE = pathlib.Path(snakemake.output[0])\n",
    "    MIN_PKT_SIZE = snakemake.params.get(\"min_pkt_size\", MIN_PKT_SIZE)\n",
    "    WITH_LEGEND = snakemake.params.get(\"with_legend\", WITH_LEGEND)\n",
    "    YLABELS_AT = snakemake.params.get(\"ylabels_at\", YLABELS_AT)"
   ]
  },
  {
   "cell_type": "code",
   "execution_count": null,
   "metadata": {},
   "outputs": [],
   "source": [
    "data = pd.melt(pd.read_csv(SCORES_FILE), id_vars=[\"sample\", \"rate\", \"dir\", \"min_pkt_size\"], var_name=\"metric\")\n",
    "data = data[data[\"min_pkt_size\"] == MIN_PKT_SIZE]\n",
    "data"
   ]
  },
  {
   "cell_type": "code",
   "execution_count": null,
   "metadata": {},
   "outputs": [],
   "source": [
    "RATE_COL = \"Sampling rate (ms)\"\n",
    "\n",
    "plot_data = data.rename(columns={\n",
    "    \"dir\": \"Direction\",\n",
    "    \"rate\": RATE_COL,\n",
    "    \"value\": \"Score\",\n",
    "})\n",
    "plot_data.loc[:, \"Direction\"] = plot_data[\"Direction\"].replace({\n",
    "    \"in\": \"Server → Client\", \n",
    "    \"out\": \"Client → Server\",\n",
    "})\n",
    "plot_data[RATE_COL] = plot_data[RATE_COL].apply(lambda x: int(x[:-2]))\n",
    "\n",
    "plot_data"
   ]
  },
  {
   "cell_type": "code",
   "execution_count": null,
   "metadata": {},
   "outputs": [],
   "source": [
    "metric_label = {\n",
    "    \"pearsonr\": \"Pearson's $r$\", \n",
    "    \"spearmanr\": \"Spearman's $\\\\rho{}$\",\n",
    "    \"lcss\": \"LCSS\",\n",
    "    \"euclidean\": \"Scaled Euclidean\"\n",
    "}\n",
    "\n",
    "def plot(data):\n",
    "    fig, axes = plt.subplots(1, 2, sharey=True, sharex=True, figsize=(3.5 * .9, 1.8 * .9), squeeze=False, dpi=150)\n",
    "    # display(data.groupby([\"metric\", \"Direction\", RATE_COL]).median())\n",
    "    \n",
    "    ylim_bottom = 0\n",
    "    for metric, ax in zip([\"pearsonr\", \"lcss\"], axes.ravel()):\n",
    "        c = \"#333333\"\n",
    "        sns.boxplot(\n",
    "            data=data[data[\"metric\"] == metric], x=RATE_COL, y=\"Score\", hue=\"Direction\",\n",
    "            showfliers=False, ax=ax, linewidth=0.5, palette=[\"white\", \"lightgrey\"],\n",
    "            boxprops=dict(edgecolor=c),\n",
    "            whiskerprops=dict(color=c),\n",
    "            capprops=dict(color=c),\n",
    "            medianprops=dict(color=c),\n",
    "        )\n",
    "        \n",
    "        ax.set_title(metric_label[metric])\n",
    "        # ax.set_xlabel(None)\n",
    "        ax.set_ylabel(None)\n",
    "        ax.get_legend().remove()\n",
    "        \n",
    "        ax.yaxis.set_major_locator(ticker.MultipleLocator(YLABELS_AT))\n",
    "        ax.yaxis.set_minor_locator(ticker.MultipleLocator(0.25))\n",
    "        ax.grid(True, axis=\"y\", which=\"both\")\n",
    "        \n",
    "        ylim_bottom = min(ylim_bottom, math.floor(ax.get_ylim()[0] * 4) / 4)\n",
    "        \n",
    "    axes[0][0].set_ylabel(\"Score\")\n",
    "    ax.set_ylim(ylim_bottom * 1.05)\n",
    "    \n",
    "    # Format the axes spacing\n",
    "    # Must come before the addition of the \n",
    "    sns.despine(left=True, bottom=True)\n",
    "    fig.tight_layout(w_pad=.75)\n",
    "    fig.subplots_adjust(wspace=None, hspace=None)\n",
    "        \n",
    "    # Use a large, hidden axis to set a common x-axis label\n",
    "    # meta_ax = fig.add_subplot(111, frameon=False)\n",
    "    # meta_ax.tick_params(labelcolor='none', which='both', top=False, bottom=False, left=False, right=False)\n",
    "    # meta_ax.xaxis.set_major_locator(ticker.NullLocator())\n",
    "    # meta_ax.yaxis.set_major_locator(ticker.NullLocator())\n",
    "    # meta_ax.grid(False, which=\"both\", axis=\"both\")\n",
    "    # meta_ax.set_xlabel(RATE_COL, labelpad=20)\n",
    "    \n",
    "    if WITH_LEGEND:\n",
    "        handles, labels = ax.get_legend_handles_labels()\n",
    "        fig.legend(handles, labels, loc='upper right', bbox_to_anchor=(1, 1.15), ncol=2)\n",
    "        \n",
    "    return fig\n",
    "\n",
    "fig = plot(plot_data)\n",
    "fig.savefig(OUTPUT_FILE.with_suffix(\".png\"), bbox_inches=\"tight\", dpi=150)\n",
    "fig.savefig(OUTPUT_FILE.with_suffix(\".pgf\"), backend=\"pgf\", bbox_inches=\"tight\")"
   ]
  }
 ],
 "metadata": {
  "kernelspec": {
   "display_name": "Python 3 (ipykernel)",
   "language": "python",
   "name": "python3"
  },
  "language_info": {
   "codemirror_mode": {
    "name": "ipython",
    "version": 3
   },
   "file_extension": ".py",
   "mimetype": "text/x-python",
   "name": "python",
   "nbconvert_exporter": "python",
   "pygments_lexer": "ipython3",
   "version": "3.8.0"
  }
 },
 "nbformat": 4,
 "nbformat_minor": 4
}
