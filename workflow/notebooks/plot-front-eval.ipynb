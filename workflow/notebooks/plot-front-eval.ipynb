{
 "cells": [
  {
   "cell_type": "code",
   "execution_count": 19,
   "metadata": {},
   "outputs": [],
   "source": [
    "import pandas as pd\n",
    "import seaborn as sns\n",
    "\n",
    "sns.set_style(\"whitegrid\")\n",
    "sns.set_context(\"paper\")"
   ]
  },
  {
   "cell_type": "code",
   "execution_count": 25,
   "metadata": {},
   "outputs": [],
   "source": [
    "(scores_file, plot_file) = ((snakemake.input[0], snakemake.output[0]) if \"snakemake\" in globals()\n",
    "                            else (\"results/front-eval/scores.csv\",  \"results/plots/front-eval-plot.pdf\"))"
   ]
  },
  {
   "cell_type": "code",
   "execution_count": 26,
   "metadata": {},
   "outputs": [
    {
     "data": {
      "text/html": [
       "<div>\n",
       "<style scoped>\n",
       "    .dataframe tbody tr th:only-of-type {\n",
       "        vertical-align: middle;\n",
       "    }\n",
       "\n",
       "    .dataframe tbody tr th {\n",
       "        vertical-align: top;\n",
       "    }\n",
       "\n",
       "    .dataframe thead th {\n",
       "        text-align: right;\n",
       "    }\n",
       "</style>\n",
       "<table border=\"1\" class=\"dataframe\">\n",
       "  <thead>\n",
       "    <tr style=\"text-align: right;\">\n",
       "      <th></th>\n",
       "      <th>sample</th>\n",
       "      <th>rate</th>\n",
       "      <th>dir</th>\n",
       "      <th>metric</th>\n",
       "      <th>value</th>\n",
       "    </tr>\n",
       "  </thead>\n",
       "  <tbody>\n",
       "    <tr>\n",
       "      <th>0</th>\n",
       "      <td>0000_00</td>\n",
       "      <td>5ms</td>\n",
       "      <td>in</td>\n",
       "      <td>pearsonr</td>\n",
       "      <td>0.157673</td>\n",
       "    </tr>\n",
       "    <tr>\n",
       "      <th>1</th>\n",
       "      <td>0000_00</td>\n",
       "      <td>5ms</td>\n",
       "      <td>out</td>\n",
       "      <td>pearsonr</td>\n",
       "      <td>0.669004</td>\n",
       "    </tr>\n",
       "    <tr>\n",
       "      <th>2</th>\n",
       "      <td>0000_00</td>\n",
       "      <td>25ms</td>\n",
       "      <td>in</td>\n",
       "      <td>pearsonr</td>\n",
       "      <td>0.327531</td>\n",
       "    </tr>\n",
       "    <tr>\n",
       "      <th>3</th>\n",
       "      <td>0000_00</td>\n",
       "      <td>25ms</td>\n",
       "      <td>out</td>\n",
       "      <td>pearsonr</td>\n",
       "      <td>0.923367</td>\n",
       "    </tr>\n",
       "    <tr>\n",
       "      <th>4</th>\n",
       "      <td>0000_00</td>\n",
       "      <td>50ms</td>\n",
       "      <td>in</td>\n",
       "      <td>pearsonr</td>\n",
       "      <td>0.416086</td>\n",
       "    </tr>\n",
       "    <tr>\n",
       "      <th>...</th>\n",
       "      <td>...</td>\n",
       "      <td>...</td>\n",
       "      <td>...</td>\n",
       "      <td>...</td>\n",
       "      <td>...</td>\n",
       "    </tr>\n",
       "    <tr>\n",
       "      <th>1225</th>\n",
       "      <td>0055_00</td>\n",
       "      <td>5ms</td>\n",
       "      <td>out</td>\n",
       "      <td>mutual_info</td>\n",
       "      <td>0.864212</td>\n",
       "    </tr>\n",
       "    <tr>\n",
       "      <th>1226</th>\n",
       "      <td>0055_00</td>\n",
       "      <td>25ms</td>\n",
       "      <td>in</td>\n",
       "      <td>mutual_info</td>\n",
       "      <td>4.122497</td>\n",
       "    </tr>\n",
       "    <tr>\n",
       "      <th>1227</th>\n",
       "      <td>0055_00</td>\n",
       "      <td>25ms</td>\n",
       "      <td>out</td>\n",
       "      <td>mutual_info</td>\n",
       "      <td>5.183257</td>\n",
       "    </tr>\n",
       "    <tr>\n",
       "      <th>1228</th>\n",
       "      <td>0055_00</td>\n",
       "      <td>50ms</td>\n",
       "      <td>in</td>\n",
       "      <td>mutual_info</td>\n",
       "      <td>5.363199</td>\n",
       "    </tr>\n",
       "    <tr>\n",
       "      <th>1229</th>\n",
       "      <td>0055_00</td>\n",
       "      <td>50ms</td>\n",
       "      <td>out</td>\n",
       "      <td>mutual_info</td>\n",
       "      <td>5.970483</td>\n",
       "    </tr>\n",
       "  </tbody>\n",
       "</table>\n",
       "<p>1230 rows × 5 columns</p>\n",
       "</div>"
      ],
      "text/plain": [
       "       sample  rate  dir       metric     value\n",
       "0     0000_00   5ms   in     pearsonr  0.157673\n",
       "1     0000_00   5ms  out     pearsonr  0.669004\n",
       "2     0000_00  25ms   in     pearsonr  0.327531\n",
       "3     0000_00  25ms  out     pearsonr  0.923367\n",
       "4     0000_00  50ms   in     pearsonr  0.416086\n",
       "...       ...   ...  ...          ...       ...\n",
       "1225  0055_00   5ms  out  mutual_info  0.864212\n",
       "1226  0055_00  25ms   in  mutual_info  4.122497\n",
       "1227  0055_00  25ms  out  mutual_info  5.183257\n",
       "1228  0055_00  50ms   in  mutual_info  5.363199\n",
       "1229  0055_00  50ms  out  mutual_info  5.970483\n",
       "\n",
       "[1230 rows x 5 columns]"
      ]
     },
     "execution_count": 26,
     "metadata": {},
     "output_type": "execute_result"
    }
   ],
   "source": [
    "plot_data = pd.melt(pd.read_csv(scores_file), id_vars=[\"sample\", \"rate\", \"dir\"], var_name=\"metric\")\n",
    "plot_data"
   ]
  },
  {
   "cell_type": "code",
   "execution_count": 27,
   "metadata": {},
   "outputs": [
    {
     "data": {
      "image/png": "[encoded data removed]",
      "text/plain": [
       "<Figure size 1017.93x216 with 5 Axes>"
      ]
     },
     "metadata": {},
     "output_type": "display_data"
    }
   ],
   "source": [
    "grid = sns.catplot(data=plot_data, x=\"rate\", y=\"value\", hue=\"dir\", col=\"metric\", sharey=False, kind=\"box\", height=3, aspect=0.9)\n",
    "grid.savefig(plot_file, bbox_inches=\"tight\")"
   ]
  }
 ],
 "metadata": {
  "kernelspec": {
   "display_name": "Python 3",
   "language": "python",
   "name": "python3"
  },
  "language_info": {
   "codemirror_mode": {
    "name": "ipython",
    "version": 3
   },
   "file_extension": ".py",
   "mimetype": "text/x-python",
   "name": "python",
   "nbconvert_exporter": "python",
   "pygments_lexer": "ipython3",
   "version": "3.8.0"
  }
 },
 "nbformat": 4,
 "nbformat_minor": 4
}
